{
 "cells": [
  {
   "cell_type": "code",
   "execution_count": 33,
   "metadata": {},
   "outputs": [],
   "source": [
    "# Library Importation\n",
    "import numpy as np\n",
    "import pandas as pd\n",
    "import matplotlib.pyplot as plt\n",
    "from sklearn import tree\n",
    "from sklearn.tree import DecisionTreeClassifier\n",
    "from sklearn.model_selection import KFold, cross_val_score\n",
    "from sklearn.metrics import accuracy_score, make_scorer\n",
    "from sklearn.model_selection import GridSearchCV\n",
    "from sklearn import linear_model\n",
    "from sklearn.preprocessing import StandardScaler\n",
    "from sklearn.model_selection import train_test_split\n",
    "from sklearn.model_selection import ParameterGrid\n",
    "from sklearn.metrics import confusion_matrix\n",
    "from sklearn.metrics import accuracy_score\n",
    "from sklearn.neighbors import KNeighborsClassifier"
   ]
  },
  {
   "cell_type": "code",
   "execution_count": 28,
   "metadata": {},
   "outputs": [
    {
     "data": {
      "text/html": [
       "<div>\n",
       "<style scoped>\n",
       "    .dataframe tbody tr th:only-of-type {\n",
       "        vertical-align: middle;\n",
       "    }\n",
       "\n",
       "    .dataframe tbody tr th {\n",
       "        vertical-align: top;\n",
       "    }\n",
       "\n",
       "    .dataframe thead th {\n",
       "        text-align: right;\n",
       "    }\n",
       "</style>\n",
       "<table border=\"1\" class=\"dataframe\">\n",
       "  <thead>\n",
       "    <tr style=\"text-align: right;\">\n",
       "      <th></th>\n",
       "      <th>pclass</th>\n",
       "      <th>survived</th>\n",
       "      <th>age</th>\n",
       "      <th>sex</th>\n",
       "    </tr>\n",
       "  </thead>\n",
       "  <tbody>\n",
       "    <tr>\n",
       "      <th>0</th>\n",
       "      <td>1</td>\n",
       "      <td>1</td>\n",
       "      <td>29.000000</td>\n",
       "      <td>1</td>\n",
       "    </tr>\n",
       "    <tr>\n",
       "      <th>1</th>\n",
       "      <td>1</td>\n",
       "      <td>1</td>\n",
       "      <td>0.920000</td>\n",
       "      <td>0</td>\n",
       "    </tr>\n",
       "    <tr>\n",
       "      <th>2</th>\n",
       "      <td>1</td>\n",
       "      <td>0</td>\n",
       "      <td>2.000000</td>\n",
       "      <td>1</td>\n",
       "    </tr>\n",
       "    <tr>\n",
       "      <th>3</th>\n",
       "      <td>1</td>\n",
       "      <td>0</td>\n",
       "      <td>30.000000</td>\n",
       "      <td>0</td>\n",
       "    </tr>\n",
       "    <tr>\n",
       "      <th>4</th>\n",
       "      <td>1</td>\n",
       "      <td>0</td>\n",
       "      <td>25.000000</td>\n",
       "      <td>1</td>\n",
       "    </tr>\n",
       "    <tr>\n",
       "      <th>...</th>\n",
       "      <td>...</td>\n",
       "      <td>...</td>\n",
       "      <td>...</td>\n",
       "      <td>...</td>\n",
       "    </tr>\n",
       "    <tr>\n",
       "      <th>1304</th>\n",
       "      <td>3</td>\n",
       "      <td>0</td>\n",
       "      <td>14.500000</td>\n",
       "      <td>1</td>\n",
       "    </tr>\n",
       "    <tr>\n",
       "      <th>1305</th>\n",
       "      <td>3</td>\n",
       "      <td>0</td>\n",
       "      <td>29.881138</td>\n",
       "      <td>1</td>\n",
       "    </tr>\n",
       "    <tr>\n",
       "      <th>1306</th>\n",
       "      <td>3</td>\n",
       "      <td>0</td>\n",
       "      <td>26.500000</td>\n",
       "      <td>0</td>\n",
       "    </tr>\n",
       "    <tr>\n",
       "      <th>1307</th>\n",
       "      <td>3</td>\n",
       "      <td>0</td>\n",
       "      <td>27.000000</td>\n",
       "      <td>0</td>\n",
       "    </tr>\n",
       "    <tr>\n",
       "      <th>1308</th>\n",
       "      <td>3</td>\n",
       "      <td>0</td>\n",
       "      <td>29.000000</td>\n",
       "      <td>0</td>\n",
       "    </tr>\n",
       "  </tbody>\n",
       "</table>\n",
       "<p>1309 rows × 4 columns</p>\n",
       "</div>"
      ],
      "text/plain": [
       "      pclass  survived        age  sex\n",
       "0          1         1  29.000000    1\n",
       "1          1         1   0.920000    0\n",
       "2          1         0   2.000000    1\n",
       "3          1         0  30.000000    0\n",
       "4          1         0  25.000000    1\n",
       "...      ...       ...        ...  ...\n",
       "1304       3         0  14.500000    1\n",
       "1305       3         0  29.881138    1\n",
       "1306       3         0  26.500000    0\n",
       "1307       3         0  27.000000    0\n",
       "1308       3         0  29.000000    0\n",
       "\n",
       "[1309 rows x 4 columns]"
      ]
     },
     "execution_count": 28,
     "metadata": {},
     "output_type": "execute_result"
    }
   ],
   "source": [
    "# Data Importation and preprocessing\n",
    "tit = pd.read_csv(\"titanic3.csv\")\n",
    "tit = tit.loc[:,['pclass','survived','age','sex']] # selection of vital fields\n",
    "tit['age'] = tit['age'].fillna(tit['age'].mean()) # filling the null values with the mean\n",
    "# gender = pd.get_dummies(tit['sex'], drop_first=True) # 0 is female, 1 is male\n",
    "# gender.columns  = ['sex']\n",
    "# tit['sex'] = gender # conversion of categorical variables to dummy variables\n",
    "\n",
    "tit['sex'].replace(['male','female'],[0,1], inplace=True)\n",
    "\n",
    "tit"
   ]
  },
  {
   "cell_type": "code",
   "execution_count": 29,
   "metadata": {},
   "outputs": [],
   "source": [
    "# Feature Extraction and Class Extraction\n",
    "X = tit.drop('survived', axis=1)\n",
    "y = tit['survived']\n",
    "\n",
    "#Xtrain_set, Xtest_set, ytrain_set, ytest_set = train_test_split(X, y, test_size = 0.2, random_state=42) # data splitting"
   ]
  },
  {
   "cell_type": "code",
   "execution_count": 30,
   "metadata": {},
   "outputs": [
    {
     "data": {
      "text/plain": [
       "array([[-1.54609786, -0.06842049,  1.34499549],\n",
       "       [-1.54609786, -2.24883736, -0.74349692],\n",
       "       [-1.54609786, -2.16497518,  1.34499549],\n",
       "       ...,\n",
       "       [ 0.84191642, -0.26254593, -0.74349692],\n",
       "       [ 0.84191642, -0.22372084, -0.74349692],\n",
       "       [ 0.84191642, -0.06842049, -0.74349692]])"
      ]
     },
     "execution_count": 30,
     "metadata": {},
     "output_type": "execute_result"
    }
   ],
   "source": [
    "# Scaling of Features / Normalization on X\n",
    "std_scaler = StandardScaler()\n",
    "Xtrain_norm = std_scaler.fit_transform(X)\n",
    "#Xtrain_norm = std_scaler.fit_transform(Xtrain_set)\n",
    "#Xtest_norm = std_scaler.transform(Xtest_set)\n",
    "\n",
    "Xtrain_norm"
   ]
  },
  {
   "cell_type": "code",
   "execution_count": 34,
   "metadata": {},
   "outputs": [
    {
     "name": "stdout",
     "output_type": "stream",
     "text": [
      "[0.7219495008807986, 0.7624368761009983, 0.7777040516735172, 0.7914562536699941, 0.79221961244862, 0.7929712272460364, 0.796030534351145, 0.7922078684674104, 0.7914503816793894, 0.7929770992366412, 0.7914386376981797, 0.7921961244862008]\n"
     ]
    }
   ],
   "source": [
    "\n",
    "cross_score_list = []\n",
    "\n",
    "range_loop = np.array([1,2,3,4,5,6,7,8,9,10,15,20]) # list of k neighbours\n",
    "nknn_folds = KFold(n_splits=10) # 10 k folds\n",
    "\n",
    "for i in range_loop:\n",
    "    knn = KNeighborsClassifier(n_neighbors=i)\n",
    "    knn.fit(Xtrain_norm, y)\n",
    "   \n",
    "\n",
    "    # Crossvalidation with i folds for KNN Model\n",
    "    cross_scores_knn = cross_val_score(knn, Xtrain_norm, y, cv=nknn_folds)\n",
    "    mean_score_knn = cross_scores_knn.mean()\n",
    "    cross_score_list.append(mean_score_knn)\n",
    "\n",
    "print(cross_score_list)\n",
    "\n",
    "# max_score = max(cross_score_list)\n",
    "# max_score_idx = cross_score_list.index(max_score)\n",
    "\n",
    "# k_neigh_optimal = max_score_idx+1 # optimal of k neighbours\n",
    "\n",
    "# if k_neigh_optimal == 11:\n",
    "#     k_neigh_optimal = 15\n",
    "# elif k_neigh_optimal == 12:\n",
    "#     k_neigh_optimal = 20\n",
    "\n",
    "# print(f\"Optimal number of K Neighbors is: {k_neigh_optimal}\")\n",
    "\n",
    "# # Matplotlib Plot\n",
    "# plt.title('Cross Validation Loss against Number of K Neighbors')\n",
    "# plt.xlabel(\"Number of K Neighbors\")\n",
    "# plt.ylabel(\"Cross Validation Loss\")\n",
    "# print(cross_score_list)\n",
    "# plt.plot(range_loop, 1-np.array(cross_score_list)) # 1-cross_score_list is the loss"
   ]
  },
  {
   "cell_type": "code",
   "execution_count": 2,
   "metadata": {},
   "outputs": [
    {
     "name": "stdout",
     "output_type": "stream",
     "text": [
      "KFold(n_splits=2, random_state=None, shuffle=False)\n"
     ]
    },
    {
     "ename": "ValueError",
     "evalue": "Setting a random_state has no effect since shuffle is False. You should leave random_state to its default (None), or set shuffle=True.",
     "output_type": "error",
     "traceback": [
      "\u001b[1;31m---------------------------------------------------------------------------\u001b[0m",
      "\u001b[1;31mValueError\u001b[0m                                Traceback (most recent call last)",
      "\u001b[1;32mc:\\Users\\kevin\\Documents\\Coding Projects\\DIAML\\ASS6\\test.ipynb Cell 6\u001b[0m in \u001b[0;36m<cell line: 8>\u001b[1;34m()\u001b[0m\n\u001b[0;32m      <a href='vscode-notebook-cell:/c%3A/Users/kevin/Documents/Coding%20Projects/DIAML/ASS6/test.ipynb#W5sZmlsZQ%3D%3D?line=5'>6</a>\u001b[0m kf\u001b[39m.\u001b[39mget_n_splits(X)\n\u001b[0;32m      <a href='vscode-notebook-cell:/c%3A/Users/kevin/Documents/Coding%20Projects/DIAML/ASS6/test.ipynb#W5sZmlsZQ%3D%3D?line=6'>7</a>\u001b[0m \u001b[39mprint\u001b[39m(kf)\n\u001b[1;32m----> <a href='vscode-notebook-cell:/c%3A/Users/kevin/Documents/Coding%20Projects/DIAML/ASS6/test.ipynb#W5sZmlsZQ%3D%3D?line=7'>8</a>\u001b[0m KFold(n_splits\u001b[39m=\u001b[39;49m\u001b[39m2\u001b[39;49m, random_state\u001b[39m=\u001b[39;49m\u001b[39m0\u001b[39;49m, shuffle\u001b[39m=\u001b[39;49m\u001b[39mFalse\u001b[39;49;00m)\n\u001b[0;32m      <a href='vscode-notebook-cell:/c%3A/Users/kevin/Documents/Coding%20Projects/DIAML/ASS6/test.ipynb#W5sZmlsZQ%3D%3D?line=8'>9</a>\u001b[0m \u001b[39mfor\u001b[39;00m train_index, test_index \u001b[39min\u001b[39;00m kf\u001b[39m.\u001b[39msplit(X):\n\u001b[0;32m     <a href='vscode-notebook-cell:/c%3A/Users/kevin/Documents/Coding%20Projects/DIAML/ASS6/test.ipynb#W5sZmlsZQ%3D%3D?line=9'>10</a>\u001b[0m     \u001b[39mprint\u001b[39m(\u001b[39m\"\u001b[39m\u001b[39mTRAIN:\u001b[39m\u001b[39m\"\u001b[39m, train_index, \u001b[39m\"\u001b[39m\u001b[39mTEST:\u001b[39m\u001b[39m\"\u001b[39m, test_index)\n",
      "File \u001b[1;32mc:\\Users\\kevin\\anaconda3\\lib\\site-packages\\sklearn\\model_selection\\_split.py:435\u001b[0m, in \u001b[0;36mKFold.__init__\u001b[1;34m(self, n_splits, shuffle, random_state)\u001b[0m\n\u001b[0;32m    434\u001b[0m \u001b[39mdef\u001b[39;00m \u001b[39m__init__\u001b[39m(\u001b[39mself\u001b[39m, n_splits\u001b[39m=\u001b[39m\u001b[39m5\u001b[39m, \u001b[39m*\u001b[39m, shuffle\u001b[39m=\u001b[39m\u001b[39mFalse\u001b[39;00m, random_state\u001b[39m=\u001b[39m\u001b[39mNone\u001b[39;00m):\n\u001b[1;32m--> 435\u001b[0m     \u001b[39msuper\u001b[39;49m()\u001b[39m.\u001b[39;49m\u001b[39m__init__\u001b[39;49m(n_splits\u001b[39m=\u001b[39;49mn_splits, shuffle\u001b[39m=\u001b[39;49mshuffle, random_state\u001b[39m=\u001b[39;49mrandom_state)\n",
      "File \u001b[1;32mc:\\Users\\kevin\\anaconda3\\lib\\site-packages\\sklearn\\model_selection\\_split.py:296\u001b[0m, in \u001b[0;36m_BaseKFold.__init__\u001b[1;34m(self, n_splits, shuffle, random_state)\u001b[0m\n\u001b[0;32m    293\u001b[0m     \u001b[39mraise\u001b[39;00m \u001b[39mTypeError\u001b[39;00m(\u001b[39m\"\u001b[39m\u001b[39mshuffle must be True or False; got \u001b[39m\u001b[39m{0}\u001b[39;00m\u001b[39m\"\u001b[39m\u001b[39m.\u001b[39mformat(shuffle))\n\u001b[0;32m    295\u001b[0m \u001b[39mif\u001b[39;00m \u001b[39mnot\u001b[39;00m shuffle \u001b[39mand\u001b[39;00m random_state \u001b[39mis\u001b[39;00m \u001b[39mnot\u001b[39;00m \u001b[39mNone\u001b[39;00m:  \u001b[39m# None is the default\u001b[39;00m\n\u001b[1;32m--> 296\u001b[0m     \u001b[39mraise\u001b[39;00m \u001b[39mValueError\u001b[39;00m(\n\u001b[0;32m    297\u001b[0m         \u001b[39m\"\u001b[39m\u001b[39mSetting a random_state has no effect since shuffle is \u001b[39m\u001b[39m\"\u001b[39m\n\u001b[0;32m    298\u001b[0m         \u001b[39m\"\u001b[39m\u001b[39mFalse. You should leave \u001b[39m\u001b[39m\"\u001b[39m\n\u001b[0;32m    299\u001b[0m         \u001b[39m\"\u001b[39m\u001b[39mrandom_state to its default (None), or set shuffle=True.\u001b[39m\u001b[39m\"\u001b[39m,\n\u001b[0;32m    300\u001b[0m     )\n\u001b[0;32m    302\u001b[0m \u001b[39mself\u001b[39m\u001b[39m.\u001b[39mn_splits \u001b[39m=\u001b[39m n_splits\n\u001b[0;32m    303\u001b[0m \u001b[39mself\u001b[39m\u001b[39m.\u001b[39mshuffle \u001b[39m=\u001b[39m shuffle\n",
      "\u001b[1;31mValueError\u001b[0m: Setting a random_state has no effect since shuffle is False. You should leave random_state to its default (None), or set shuffle=True."
     ]
    }
   ],
   "source": [
    "import numpy as np\n",
    "from sklearn.model_selection import KFold\n",
    "X = np.array([[1, 2], [3, 4], [1, 2], [3, 4]])\n",
    "y = np.array([1, 2, 3, 4])\n",
    "kf = KFold(n_splits=2)\n",
    "kf.get_n_splits(X)\n",
    "print(kf)\n",
    "KFold(n_splits=2, random_state=None, shuffle=False)\n",
    "for train_index, test_index in kf.split(X):\n",
    "    print(\"TRAIN:\", train_index, \"TEST:\", test_index)\n",
    "    X_train, X_test = X[train_index], X[test_index]\n",
    "    y_train, y_test = y[train_index], y[test_index]\n",
    "# TRAIN: [2 3] TEST: [0 1]\n",
    "# TRAIN: [0 1] TEST: [2 3]"
   ]
  }
 ],
 "metadata": {
  "kernelspec": {
   "display_name": "Python 3.9.12 ('base')",
   "language": "python",
   "name": "python3"
  },
  "language_info": {
   "codemirror_mode": {
    "name": "ipython",
    "version": 3
   },
   "file_extension": ".py",
   "mimetype": "text/x-python",
   "name": "python",
   "nbconvert_exporter": "python",
   "pygments_lexer": "ipython3",
   "version": "3.9.12"
  },
  "orig_nbformat": 4,
  "vscode": {
   "interpreter": {
    "hash": "6defd577cd85e3649e86c46a537635b7104b081260a238509c81cac8b534171b"
   }
  }
 },
 "nbformat": 4,
 "nbformat_minor": 2
}
